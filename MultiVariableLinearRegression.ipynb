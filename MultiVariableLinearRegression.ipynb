{
  "nbformat": 4,
  "nbformat_minor": 0,
  "metadata": {
    "colab": {
      "name": "MultiVariableLinearRegression.ipynb",
      "provenance": [],
      "authorship_tag": "ABX9TyM2lLg7EDbATunlxD85aCb+",
      "include_colab_link": true
    },
    "kernelspec": {
      "name": "python3",
      "display_name": "Python 3"
    }
  },
  "cells": [
    {
      "cell_type": "markdown",
      "metadata": {
        "id": "view-in-github",
        "colab_type": "text"
      },
      "source": [
        "<a href=\"https://colab.research.google.com/github/Prabhu-04/ML-Algorithms-from-Scratch/blob/master/MultiVariableLinearRegression.ipynb\" target=\"_parent\"><img src=\"https://colab.research.google.com/assets/colab-badge.svg\" alt=\"Open In Colab\"/></a>"
      ]
    },
    {
      "cell_type": "code",
      "metadata": {
        "id": "HgRG0jqlguiz"
      },
      "source": [
        "import math, random\n",
        "from functools import partial"
      ],
      "execution_count": 63,
      "outputs": []
    },
    {
      "cell_type": "code",
      "metadata": {
        "id": "3UXsmEFLeeJw"
      },
      "source": [
        "def mean(x):\n",
        "  return sum(x)/len(x)\n",
        "def dot(x,y):\n",
        "  return sum(x_i*y_i for x_i,y_i in zip(x,y))\n",
        "def sum_of_squares(x):\n",
        "  return dot(x,x)\n",
        "def de_mean(x):\n",
        "  x_bar=mean(x)\n",
        "  return [x_i-x_bar for x_i in x]\n",
        "def variance(x):\n",
        "  deviations=de_mean(x)\n",
        "  n=len(x)\n",
        "  return sum_of_squares(deviations)/(n-1)\n",
        "def standard_deviation(x):\n",
        "  return math.sqrt(variance(x))\n",
        "def covariance(x,y):\n",
        "  n=len(x)\n",
        "  return dot(de_mean(x),de_mean(y))/(n-1)\n",
        "def correlation(x,y):\n",
        "  x_stdev=standard_deviation(x)\n",
        "  y_stdev=standard_deviation(y)\n",
        "  if x_stdev > 0 and y_stdev > 0:\n",
        "    return covariance(x,y)/x_stdev/y_stdev\n",
        "  else :return 0\n",
        "def vector_subtract(v, w):\n",
        "    return [v_i - w_i for v_i, w_i in zip(v,w)]\n",
        "def vector_add(x,y):\n",
        "  return [x_i+y_i for x_i,y_i in zip(x,y)]\n",
        "def scalar_multiply(c, v):\n",
        "    return [c * v_i for v_i in v]\n",
        "def in_random_order(data):\n",
        "    \"\"\"generator that returns the elements of data in random order\"\"\"\n",
        "    indexes = [i for i, _ in enumerate(data)]  # create a list of indexes\n",
        "    random.shuffle(indexes)                    # shuffle them\n",
        "    for i in indexes:                          # return the data in that order\n",
        "        yield data[i]\n",
        "def total_sum_of_squares(y):\n",
        "  return sum(y_i**2 for y_i in de_mean(y))\n",
        "def normal_cdf(x, mu=0,sigma=1):\n",
        "    return (1 + math.erf((x - mu) / math.sqrt(2) / sigma)) / 2\n",
        "def median(v):\n",
        "    n = len(v)\n",
        "    sorted_v = sorted(v)\n",
        "    midpoint = n // 2"
      ],
      "execution_count": 43,
      "outputs": []
    },
    {
      "cell_type": "code",
      "metadata": {
        "id": "GsJCms6ogceW"
      },
      "source": [
        "def minimize_stochastic(target_fn, gradient_fn, x, y, theta_0, alpha_0=0.01):\n",
        "\n",
        "    data = list(zip(x, y))\n",
        "    theta = theta_0                             # initial guess\n",
        "    alpha = alpha_0                             # initial step size\n",
        "    min_theta, min_value = None, float(\"inf\")   # the minimum so far\n",
        "    iterations_with_no_improvement = 0\n",
        "\n",
        "    # if we ever go 100 iterations with no improvement, stop\n",
        "    while iterations_with_no_improvement < 100:\n",
        "        value = sum( target_fn(x_i, y_i, theta) for x_i, y_i in data )\n",
        "\n",
        "        if value < min_value:\n",
        "            # if we've found a new minimum, remember it\n",
        "            # and go back to the original step size\n",
        "            min_theta, min_value = theta, value\n",
        "            iterations_with_no_improvement = 0\n",
        "            alpha = alpha_0\n",
        "        else:\n",
        "            # otherwise we're not improving, so try shrinking the step size\n",
        "            iterations_with_no_improvement += 1\n",
        "            alpha *= 0.9\n",
        "\n",
        "        # and take a gradient step for each of the data points\n",
        "        for x_i, y_i in in_random_order(data):\n",
        "            gradient_i = gradient_fn(x_i, y_i, theta)\n",
        "            theta = vector_subtract(theta, scalar_multiply(alpha, gradient_i))\n",
        "\n",
        "    return min_theta"
      ],
      "execution_count": 44,
      "outputs": []
    },
    {
      "cell_type": "code",
      "metadata": {
        "id": "eC4AhLr-fODn"
      },
      "source": [
        "def predict(x_i,beta):\n",
        "  return dot(x_i,beta)"
      ],
      "execution_count": 45,
      "outputs": []
    },
    {
      "cell_type": "code",
      "metadata": {
        "id": "aFxlvzFFfa2O"
      },
      "source": [
        "def error(x_i,y_i,beta):\n",
        "  return y_i - predict(x_i,beta)"
      ],
      "execution_count": 46,
      "outputs": []
    },
    {
      "cell_type": "code",
      "metadata": {
        "id": "rFSA_WCxfmc3"
      },
      "source": [
        "def squared_error(x_i,y_i,beta):\n",
        "  return error(x_i,y_i,beta)**2"
      ],
      "execution_count": 47,
      "outputs": []
    },
    {
      "cell_type": "code",
      "metadata": {
        "id": "O0AbyMy0fv3J"
      },
      "source": [
        "def squared_error_gradient(x_i,y_i,beta):\n",
        "  return [-2 * xij * error(x_i,y_i,beta) for xij in x_i]"
      ],
      "execution_count": 48,
      "outputs": []
    },
    {
      "cell_type": "code",
      "metadata": {
        "id": "gf8K0NragHqo"
      },
      "source": [
        "def estimate_beta(x,y):\n",
        "  beta_initial= [random.random() for x_i in x[0]]\n",
        "  return minimize_stochastic(squared_error,squared_error_gradient,x,y,beta_initial,0.001)"
      ],
      "execution_count": 49,
      "outputs": []
    },
    {
      "cell_type": "code",
      "metadata": {
        "id": "i-Wu5avXhRHT"
      },
      "source": [
        "def multiple_r_squared(x,y,beta):\n",
        "  sum_of_squared_error= sum(error(x_i,y_i,beta)**2 for x_i,y_i in zip(x,y))\n",
        "  return 1.0-sum_of_squared_error/total_sum_of_squares(y)"
      ],
      "execution_count": 50,
      "outputs": []
    },
    {
      "cell_type": "code",
      "metadata": {
        "id": "g2plL5oUiqYE"
      },
      "source": [
        "def bootstrap_sample(data):\n",
        "  return [random.choice(data) for _ in data]"
      ],
      "execution_count": 51,
      "outputs": []
    },
    {
      "cell_type": "code",
      "metadata": {
        "id": "uFsTlGB0i7A4"
      },
      "source": [
        "def bootstrap_statistic(data,stats_fn,num_samples):\n",
        "  return[stats_fn(bootstrap_sample(data)) for _ in range(num_samples)]"
      ],
      "execution_count": 52,
      "outputs": []
    },
    {
      "cell_type": "code",
      "metadata": {
        "id": "UfDC6T7vmFRo"
      },
      "source": [
        "def estimate_sample_beta(sample):\n",
        "    x_sample, y_sample = list(zip(*sample)) # magic unzipping trick\n",
        "    return estimate_beta(x_sample, y_sample)"
      ],
      "execution_count": 53,
      "outputs": []
    },
    {
      "cell_type": "code",
      "metadata": {
        "id": "r7f2PJSukE3R"
      },
      "source": [
        "def p_value(beta_hat_j, sigma_hat_j):\n",
        "    if beta_hat_j > 0:\n",
        "        return 2 * (1 - normal_cdf(beta_hat_j / sigma_hat_j))\n",
        "    else:\n",
        "        return 2 * normal_cdf(beta_hat_j / sigma_hat_j)"
      ],
      "execution_count": 54,
      "outputs": []
    },
    {
      "cell_type": "code",
      "metadata": {
        "id": "UAbfT1yzkuXf"
      },
      "source": [
        "def ridge_penalty(beta,alpha):\n",
        "  return alpha * dot(beta[1:],beta[1:])"
      ],
      "execution_count": 55,
      "outputs": []
    },
    {
      "cell_type": "code",
      "metadata": {
        "id": "dPkhXJD0mp51"
      },
      "source": [
        "def squared_error_ridge(x_i,y_i,beat,alpha):\n",
        "  return error(x_i,y_i,beta)**2 + ridge_penalty(beta,alpha)"
      ],
      "execution_count": 56,
      "outputs": []
    },
    {
      "cell_type": "code",
      "metadata": {
        "id": "aCan6_HSnq1F"
      },
      "source": [
        "def ridge_penalty_gradient(beta, alpha):\n",
        "    \"\"\"gradient of just the ridge penalty\"\"\"\n",
        "    return [0] + [2 * alpha * beta_j for beta_j in beta[1:]]"
      ],
      "execution_count": 57,
      "outputs": []
    },
    {
      "cell_type": "code",
      "metadata": {
        "id": "wxjC7Vc6m8fQ"
      },
      "source": [
        "def squared_error_ridge_gradient(x_i,y_i,beta,alpha):\n",
        "  return vector_add(squared_error_gradient(x_i,y_i,beta),ridge_penalty_gradient(beta,alpha))"
      ],
      "execution_count": 58,
      "outputs": []
    },
    {
      "cell_type": "code",
      "metadata": {
        "id": "UdhfKssAn558"
      },
      "source": [
        "def estimate_beta_ridge(x,y,alpha):\n",
        "  beta_initials=[random.random() for x_i in x[0]]\n",
        "  return minimize_stochastic(partial(squared_error_ridge,alpha=alpha),partial(squared_error_ridge_gradient,alpha=alpha),x,y,beta_initials,0.001)"
      ],
      "execution_count": 59,
      "outputs": []
    },
    {
      "cell_type": "code",
      "metadata": {
        "id": "X4OxLO_QoxHC"
      },
      "source": [
        "def lasso_penalty(beta,alpha):\n",
        "  return alpha * sum(abs(beta_i) for beta_i in beta[1:])"
      ],
      "execution_count": 60,
      "outputs": []
    },
    {
      "cell_type": "code",
      "metadata": {
        "id": "83EFbSkopI-q",
        "outputId": "89172d49-85d4-4dd5-f744-6f29af671012",
        "colab": {
          "base_uri": "https://localhost:8080/"
        }
      },
      "source": [
        "x = [[1,49,4,0],[1,41,9,0],[1,40,8,0],[1,25,6,0],[1,21,1,0],[1,21,0,0],[1,19,3,0],[1,19,0,0],[1,18,9,0],[1,18,8,0],[1,16,4,0],[1,15,3,0],[1,15,0,0],[1,15,2,0],[1,15,7,0],[1,14,0,0],[1,14,1,0],[1,13,1,0],[1,13,7,0],[1,13,4,0],[1,13,2,0],[1,12,5,0],[1,12,0,0],[1,11,9,0],[1,10,9,0],[1,10,1,0],[1,10,1,0],[1,10,7,0],[1,10,9,0],[1,10,1,0],[1,10,6,0],[1,10,6,0],[1,10,8,0],[1,10,10,0],[1,10,6,0],[1,10,0,0],[1,10,5,0],[1,10,3,0],[1,10,4,0],[1,9,9,0],[1,9,9,0],[1,9,0,0],[1,9,0,0],[1,9,6,0],[1,9,10,0],[1,9,8,0],[1,9,5,0],[1,9,2,0],[1,9,9,0],[1,9,10,0],[1,9,7,0],[1,9,2,0],[1,9,0,0],[1,9,4,0],[1,9,6,0],[1,9,4,0],[1,9,7,0],[1,8,3,0],[1,8,2,0],[1,8,4,0],[1,8,9,0],[1,8,2,0],[1,8,3,0],[1,8,5,0],[1,8,8,0],[1,8,0,0],[1,8,9,0],[1,8,10,0],[1,8,5,0],[1,8,5,0],[1,7,5,0],[1,7,5,0],[1,7,0,0],[1,7,2,0],[1,7,8,0],[1,7,10,0],[1,7,5,0],[1,7,3,0],[1,7,3,0],[1,7,6,0],[1,7,7,0],[1,7,7,0],[1,7,9,0],[1,7,3,0],[1,7,8,0],[1,6,4,0],[1,6,6,0],[1,6,4,0],[1,6,9,0],[1,6,0,0],[1,6,1,0],[1,6,4,0],[1,6,1,0],[1,6,0,0],[1,6,7,0],[1,6,0,0],[1,6,8,0],[1,6,4,0],[1,6,2,1],[1,6,1,1],[1,6,3,1],[1,6,6,1],[1,6,4,1],[1,6,4,1],[1,6,1,1],[1,6,3,1],[1,6,4,1],[1,5,1,1],[1,5,9,1],[1,5,4,1],[1,5,6,1],[1,5,4,1],[1,5,4,1],[1,5,10,1],[1,5,5,1],[1,5,2,1],[1,5,4,1],[1,5,4,1],[1,5,9,1],[1,5,3,1],[1,5,10,1],[1,5,2,1],[1,5,2,1],[1,5,9,1],[1,4,8,1],[1,4,6,1],[1,4,0,1],[1,4,10,1],[1,4,5,1],[1,4,10,1],[1,4,9,1],[1,4,1,1],[1,4,4,1],[1,4,4,1],[1,4,0,1],[1,4,3,1],[1,4,1,1],[1,4,3,1],[1,4,2,1],[1,4,4,1],[1,4,4,1],[1,4,8,1],[1,4,2,1],[1,4,4,1],[1,3,2,1],[1,3,6,1],[1,3,4,1],[1,3,7,1],[1,3,4,1],[1,3,1,1],[1,3,10,1],[1,3,3,1],[1,3,4,1],[1,3,7,1],[1,3,5,1],[1,3,6,1],[1,3,1,1],[1,3,6,1],[1,3,10,1],[1,3,2,1],[1,3,4,1],[1,3,2,1],[1,3,1,1],[1,3,5,1],[1,2,4,1],[1,2,2,1],[1,2,8,1],[1,2,3,1],[1,2,1,1],[1,2,9,1],[1,2,10,1],[1,2,9,1],[1,2,4,1],[1,2,5,1],[1,2,0,1],[1,2,9,1],[1,2,9,1],[1,2,0,1],[1,2,1,1],[1,2,1,1],[1,2,4,1],[1,1,0,1],[1,1,2,1],[1,1,2,1],[1,1,5,1],[1,1,3,1],[1,1,10,1],[1,1,6,1],[1,1,0,1],[1,1,8,1],[1,1,6,1],[1,1,4,1],[1,1,9,1],[1,1,9,1],[1,1,4,1],[1,1,2,1],[1,1,9,1],[1,1,0,1],[1,1,8,1],[1,1,6,1],[1,1,1,1],[1,1,1,1],[1,1,5,1]]\n",
        "daily_minutes_spent = [68.77,51.25,52.08,38.36,44.54,57.13,51.4,41.42,31.22,34.76,54.01,38.79,47.59,49.1,27.66,41.03,36.73,48.65,28.12,46.62,35.57,32.98,35,26.07,23.77,39.73,40.57,31.65,31.21,36.32,20.45,21.93,26.02,27.34,23.49,46.94,30.5,33.8,24.23,21.4,27.94,32.24,40.57,25.07,19.42,22.39,18.42,46.96,23.72,26.41,26.97,36.76,40.32,35.02,29.47,30.2,31,38.11,38.18,36.31,21.03,30.86,36.07,28.66,29.08,37.28,15.28,24.17,22.31,30.17,25.53,19.85,35.37,44.6,17.23,13.47,26.33,35.02,32.09,24.81,19.33,28.77,24.26,31.98,25.73,24.86,16.28,34.51,15.23,39.72,40.8,26.06,35.76,34.76,16.13,44.04,18.03,19.65,32.62,35.59,39.43,14.18,35.24,40.13,41.82,35.45,36.07,43.67,24.61,20.9,21.9,18.79,27.61,27.21,26.61,29.77,20.59,27.53,13.82,33.2,25,33.1,36.65,18.63,14.87,22.2,36.81,25.53,24.62,26.25,18.21,28.08,19.42,29.79,32.8,35.99,28.32,27.79,35.88,29.06,36.28,14.1,36.63,37.49,26.9,18.58,38.48,24.48,18.95,33.55,14.24,29.04,32.51,25.63,22.22,19,32.73,15.16,13.9,27.2,32.01,29.27,33,13.74,20.42,27.32,18.23,35.35,28.48,9.08,24.62,20.12,35.26,19.92,31.02,16.49,12.16,30.7,31.22,34.65,13.13,27.51,33.2,31.57,14.1,33.42,17.44,10.12,24.42,9.82,23.39,30.93,15.03,21.67,31.09,33.29,22.61,26.89,23.48,8.38,27.81,32.35,23.84]\n",
        "random.seed(0)\n",
        "beta = estimate_beta(x, daily_minutes_spent) # [30.63, 0.972, -1.868, 0.911]\n",
        "print(\"beta\", beta)\n",
        "print(\"r-squared\", multiple_r_squared(x, daily_minutes_spent, beta))\n",
        "print()\n",
        "print(\"digression: the bootstrap\")\n",
        "    # 101 points all very close to 100\n",
        "close_to_100 = [99.5 + random.random() for _ in range(101)]\n",
        "\n",
        "    # 101 points, 50 of them near 0, 50 of them near 200\n",
        "far_from_100 = ([99.5 + random.random()] +\n",
        "                [random.random() for _ in range(50)] +\n",
        "                [200 + random.random() for _ in range(50)])\n",
        "\n",
        "print(\"bootstrap_statistic(close_to_100, median, 100):\")\n",
        "print(bootstrap_statistic(close_to_100, median, 100))\n",
        "print(\"bootstrap_statistic(far_from_100, median, 100):\")\n",
        "print(bootstrap_statistic(far_from_100, median, 100))\n",
        "print()\n",
        "\n",
        "random.seed(0) # so that you get the same results as me\n",
        "\n",
        "bootstrap_betas = bootstrap_statistic(list(zip(x, daily_minutes_spent)),\n",
        "                                          estimate_sample_beta,\n",
        "                                          100)\n",
        "\n",
        "bootstrap_standard_errors = [standard_deviation([beta[i] for beta in bootstrap_betas])for i in range(4)]\n",
        "\n",
        "print(\"bootstrap standard errors\", bootstrap_standard_errors)\n",
        "print()\n",
        "print(\"p_value(30.63, 1.174)\", p_value(30.63, 1.174))\n",
        "print(\"p_value(0.972, 0.079)\", p_value(0.972, 0.079))\n",
        "print(\"p_value(-1.868, 0.131)\", p_value(-1.868, 0.131))\n",
        "print(\"p_value(0.911, 0.990)\", p_value(0.911, 0.990))\n",
        "print()\n",
        "\n",
        "print(\"regularization\")\n",
        "\n",
        "random.seed(0)\n",
        "for alpha in [0.0, 0.01, 0.1, 1, 10]:\n",
        "  beta = estimate_beta_ridge(x, daily_minutes_spent, alpha=alpha)\n",
        "  print(\"alpha\", alpha)\n",
        "  print(\"beta\", beta)\n",
        "  print(\"dot(beta[1:],beta[1:])\", dot(beta[1:], beta[1:]))\n",
        "  print(\"r-squared\", multiple_r_squared(x, daily_minutes_spent, beta))\n",
        "  print()"
      ],
      "execution_count": 64,
      "outputs": [
        {
          "output_type": "stream",
          "text": [
            "beta [30.619881701311712, 0.9702056472470465, -1.8671913880379478, 0.9163711597955347]\n",
            "r-squared 0.6800074955952597\n",
            "\n",
            "digression: the bootstrap\n",
            "bootstrap_statistic(close_to_100, median, 100):\n",
            "[None, None, None, None, None, None, None, None, None, None, None, None, None, None, None, None, None, None, None, None, None, None, None, None, None, None, None, None, None, None, None, None, None, None, None, None, None, None, None, None, None, None, None, None, None, None, None, None, None, None, None, None, None, None, None, None, None, None, None, None, None, None, None, None, None, None, None, None, None, None, None, None, None, None, None, None, None, None, None, None, None, None, None, None, None, None, None, None, None, None, None, None, None, None, None, None, None, None, None, None]\n",
            "bootstrap_statistic(far_from_100, median, 100):\n",
            "[None, None, None, None, None, None, None, None, None, None, None, None, None, None, None, None, None, None, None, None, None, None, None, None, None, None, None, None, None, None, None, None, None, None, None, None, None, None, None, None, None, None, None, None, None, None, None, None, None, None, None, None, None, None, None, None, None, None, None, None, None, None, None, None, None, None, None, None, None, None, None, None, None, None, None, None, None, None, None, None, None, None, None, None, None, None, None, None, None, None, None, None, None, None, None, None, None, None, None, None]\n",
            "\n",
            "bootstrap standard errors [0.953551702104508, 0.06288763616183773, 0.11722269488203318, 0.8591786495949066]\n",
            "\n",
            "p_value(30.63, 1.174) 0.0\n",
            "p_value(0.972, 0.079) 0.0\n",
            "p_value(-1.868, 0.131) 0.0\n",
            "p_value(0.911, 0.990) 0.35746719881669264\n",
            "\n",
            "regularization\n",
            "alpha 0.0\n",
            "beta [0.8444218515250481, 0.7579544029403025, 0.420571580830845, 0.25891675029296335]\n",
            "dot(beta[1:],beta[1:]) 0.8184132151214151\n",
            "r-squared -4.422023502508536\n",
            "\n",
            "alpha 0.01\n",
            "beta [0.1207575451712577, 0.8621126848036345, 0.35032219557594546, 0.1600304873711048]\n",
            "dot(beta[1:],beta[1:]) 0.891573678900715\n",
            "r-squared -4.549281052242421\n",
            "\n",
            "alpha 0.1\n",
            "beta [0.5809235838027145, 0.5516750968546233, 0.03208665872380223, 0.08711515945618276]\n",
            "dot(beta[1:],beta[1:]) 0.3129640171646919\n",
            "r-squared -5.976998983516607\n",
            "\n",
            "alpha 1\n",
            "beta [0.5663657074356515, 0.6095109143376258, 0.8765573333089827, 0.6831373514114093]\n",
            "dot(beta[1:],beta[1:]) 1.606532954167839\n",
            "r-squared -4.250064080276644\n",
            "\n",
            "alpha 10\n",
            "beta [0.7069837930636387, 0.9693614560485388, 0.9753207143801869, 0.4262220117435581]\n",
            "dot(beta[1:],beta[1:]) 2.072577331666347\n",
            "r-squared -3.1424701855398753\n",
            "\n"
          ],
          "name": "stdout"
        }
      ]
    },
    {
      "cell_type": "code",
      "metadata": {
        "id": "9RgmwaCMsbPc"
      },
      "source": [
        ""
      ],
      "execution_count": null,
      "outputs": []
    }
  ]
}