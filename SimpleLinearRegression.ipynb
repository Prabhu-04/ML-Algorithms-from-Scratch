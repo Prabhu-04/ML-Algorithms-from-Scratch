{
  "nbformat": 4,
  "nbformat_minor": 0,
  "metadata": {
    "colab": {
      "name": "SimpleLinearRegression.ipynb",
      "provenance": [],
      "collapsed_sections": [],
      "authorship_tag": "ABX9TyNTdX0gM0EBDHoG06KzxdNb",
      "include_colab_link": true
    },
    "kernelspec": {
      "name": "python3",
      "display_name": "Python 3"
    }
  },
  "cells": [
    {
      "cell_type": "markdown",
      "metadata": {
        "id": "view-in-github",
        "colab_type": "text"
      },
      "source": [
        "<a href=\"https://colab.research.google.com/github/Prabhu-04/ML-Algorithms-from-Scratch/blob/master/SimpleLinearRegression.ipynb\" target=\"_parent\"><img src=\"https://colab.research.google.com/assets/colab-badge.svg\" alt=\"Open In Colab\"/></a>"
      ]
    },
    {
      "cell_type": "code",
      "metadata": {
        "id": "5y06Zp2iCNPI"
      },
      "source": [
        "from collections import Counter, defaultdict\n",
        "import math, random"
      ],
      "execution_count": 16,
      "outputs": []
    },
    {
      "cell_type": "code",
      "metadata": {
        "id": "VcfscvoJ4ceh"
      },
      "source": [
        "def predict(alpha,beta,x_i):\n",
        "  return beta * x_i + alpha"
      ],
      "execution_count": 2,
      "outputs": []
    },
    {
      "cell_type": "code",
      "metadata": {
        "id": "nE5172Ui41Fg"
      },
      "source": [
        "def error(alpha,beta,x_i,y_i):\n",
        "  return y_i - predict(alpha,beta,x_i)"
      ],
      "execution_count": 3,
      "outputs": []
    },
    {
      "cell_type": "code",
      "metadata": {
        "id": "Z3uwvNwk5Imc"
      },
      "source": [
        "def sum_squared_errors(alpha,beta,x,y):\n",
        "  return sum(error(alpha,beta,x_i,y_i) ** 2\n",
        "             for x_i,y_i in zip(x,y))"
      ],
      "execution_count": 4,
      "outputs": []
    },
    {
      "cell_type": "code",
      "metadata": {
        "id": "082z4bjIBFFA"
      },
      "source": [
        "def mean(x):\n",
        "  return sum(x)/len(x)\n",
        "def dot(x,y):\n",
        "  return sum(x_i*y_i for x_i,y_i in zip(x,y))\n",
        "def sum_of_squares(x):\n",
        "  return dot(x,x)\n",
        "def de_mean(x):\n",
        "  x_bar=mean(x)\n",
        "  return [x_i-x_bar for x_i in x]\n",
        "def variance(x):\n",
        "  deviations=de_mean(x)\n",
        "  n=len(x)\n",
        "  return sum_of_squares(deviations)/(n-1)\n",
        "def standard_deviation(x):\n",
        "  return math.sqrt(variance(x))\n",
        "def covariance(x,y):\n",
        "  n=len(x)\n",
        "  return dot(de_mean(x),de_mean(y))/(n-1)\n",
        "def correlation(x,y):\n",
        "  x_stdev=standard_deviation(x)\n",
        "  y_stdev=standard_deviation(y)\n",
        "  if x_stdev > 0 and y_stdev > 0:\n",
        "    return covariance(x,y)/x_stdev/y_stdev\n",
        "  else :return 0"
      ],
      "execution_count": 5,
      "outputs": []
    },
    {
      "cell_type": "code",
      "metadata": {
        "id": "k2VluCULMvvJ"
      },
      "source": [
        "def least_squares_fit(x,y):\n",
        "  beta= correlation(x,y)*standard_deviation(x)/standard_deviation(y)\n",
        "  alpha= mean(y) - beta * mean(x)\n",
        "  return beta,alpha\n",
        "  "
      ],
      "execution_count": 6,
      "outputs": []
    },
    {
      "cell_type": "code",
      "metadata": {
        "id": "ssJiAYxhMwEg"
      },
      "source": [
        "def total_sum_of_squares(y):\n",
        "  return sum(y_i**2 for y_i in de_mean(y))"
      ],
      "execution_count": 8,
      "outputs": []
    },
    {
      "cell_type": "code",
      "metadata": {
        "id": "oD3j237VMwZo"
      },
      "source": [
        "def r_squared(alpha,beta,x,y):\n",
        "  return 1.0 - sum_squared_errors(alpha,beta,x,y)/total_sum_of_squares(y)"
      ],
      "execution_count": 10,
      "outputs": []
    },
    {
      "cell_type": "code",
      "metadata": {
        "id": "DV1Gatt6NRYe"
      },
      "source": [
        "def squared_error(x_i,y_i,theta):\n",
        "  alpha,beta=theta\n",
        "  return error(alpha,beta,x_i,y_i)**2"
      ],
      "execution_count": 11,
      "outputs": []
    },
    {
      "cell_type": "code",
      "metadata": {
        "id": "4-Nje-P3BSdU"
      },
      "source": [
        "def squared_error_gradient(x_i,y_i,theta):\n",
        "  alpha,beta=theta\n",
        "  return [-2 * error(alpha,beta,x_i,y_i),\n",
        "          2*error(alpha,beta,x_i,y_i)*x_i]"
      ],
      "execution_count": 13,
      "outputs": []
    },
    {
      "cell_type": "code",
      "metadata": {
        "id": "oh0eFAi-8LYr"
      },
      "source": [
        "def vector_subtract(v, w):\n",
        "    return [v_i - w_i for v_i, w_i in zip(v,w)]"
      ],
      "execution_count": 25,
      "outputs": []
    },
    {
      "cell_type": "code",
      "metadata": {
        "id": "agJoyG_58LzN"
      },
      "source": [
        "def scalar_multiply(c, v):\n",
        "    return [c * v_i for v_i in v]"
      ],
      "execution_count": 26,
      "outputs": []
    },
    {
      "cell_type": "code",
      "metadata": {
        "id": "Umtx0sTH8DVr"
      },
      "source": [
        "def in_random_order(data):\n",
        "    \"\"\"generator that returns the elements of data in random order\"\"\"\n",
        "    indexes = [i for i, _ in enumerate(data)]  # create a list of indexes\n",
        "    random.shuffle(indexes)                    # shuffle them\n",
        "    for i in indexes:                          # return the data in that order\n",
        "        yield data[i]"
      ],
      "execution_count": 22,
      "outputs": []
    },
    {
      "cell_type": "code",
      "metadata": {
        "id": "Rb4yR_9T6udl"
      },
      "source": [
        "def minimize_stochastic(target_fn, gradient_fn, x, y, theta_0, alpha_0=0.01):\n",
        "\n",
        "    data = list(zip(x, y))\n",
        "    theta = theta_0                             # initial guess\n",
        "    alpha = alpha_0                             # initial step size\n",
        "    min_theta, min_value = None, float(\"inf\")   # the minimum so far\n",
        "    iterations_with_no_improvement = 0\n",
        "\n",
        "    # if we ever go 100 iterations with no improvement, stop\n",
        "    while iterations_with_no_improvement < 100:\n",
        "        value = sum( target_fn(x_i, y_i, theta) for x_i, y_i in data )\n",
        "\n",
        "        if value < min_value:\n",
        "            # if we've found a new minimum, remember it\n",
        "            # and go back to the original step size\n",
        "            min_theta, min_value = theta, value\n",
        "            iterations_with_no_improvement = 0\n",
        "            alpha = alpha_0\n",
        "        else:\n",
        "            # otherwise we're not improving, so try shrinking the step size\n",
        "            iterations_with_no_improvement += 1\n",
        "            alpha *= 0.9\n",
        "\n",
        "        # and take a gradient step for each of the data points\n",
        "        for x_i, y_i in in_random_order(data):\n",
        "            gradient_i = gradient_fn(x_i, y_i, theta)\n",
        "            theta = vector_subtract(theta, scalar_multiply(alpha, gradient_i))\n",
        "\n",
        "    return min_theta"
      ],
      "execution_count": 27,
      "outputs": []
    },
    {
      "cell_type": "code",
      "metadata": {
        "id": "v-XA8I4cCpJv",
        "outputId": "2a3b566e-3208-4f1e-b176-1726f6eb3b40",
        "colab": {
          "base_uri": "https://localhost:8080/"
        }
      },
      "source": [
        "num_friends= [49,41,40,25,21,21,19,19,18,18,16,15,15,15,15,14,14,13,13,13,13,12,12,11,10,10,10,10,10,10,10,10,10,10,10,10,10,10,10,9,9,9,9,9,9,9,9,9,9,9,9,9,9,9,9,9,9,8,8,8,8,8,8,8,8,8,8,8,8,8,7,7,7,7,7,7,7,7,7,7,7,7,7,7,7,6,6,6,6,6,6,6,6,6,6,6,6,6,6,6,6,6,6,6,6,6,6,5,5,5,5,5,5,5,5,5,5,5,5,5,5,5,5,5,4,4,4,4,4,4,4,4,4,4,4,4,4,4,4,4,4,4,4,4,3,3,3,3,3,3,3,3,3,3,3,3,3,3,3,3,3,3,3,3,2,2,2,2,2,2,2,2,2,2,2,2,2,2,2,2,2,1,1,1,1,1,1,1,1,1,1,1,1,1,1,1,1,1,1,1,1,1,1]\n",
        "daily_minutes_spent=[68.77,51.25,52.08,38.36,44.54,57.13,51.4,41.42,31.22,34.76,54.01,38.79,47.59,49.1,27.66,41.03,36.73,48.65,28.12,46.62,35.57,32.98,35,26.07,23.77,39.73,40.57,31.65,31.21,36.32,20.45,21.93,26.02,27.34,23.49,46.94,30.5,33.8,24.23,21.4,27.94,32.24,40.57,25.07,19.42,22.39,18.42,46.96,23.72,26.41,26.97,36.76,40.32,35.02,29.47,30.2,31,38.11,38.18,36.31,21.03,30.86,36.07,28.66,29.08,37.28,15.28,24.17,22.31,30.17,25.53,19.85,35.37,44.6,17.23,13.47,26.33,35.02,32.09,24.81,19.33,28.77,24.26,31.98,25.73,24.86,16.28,34.51,15.23,39.72,40.8,26.06,35.76,34.76,16.13,44.04,18.03,19.65,32.62,35.59,39.43,14.18,35.24,40.13,41.82,35.45,36.07,43.67,24.61,20.9,21.9,18.79,27.61,27.21,26.61,29.77,20.59,27.53,13.82,33.2,25,33.1,36.65,18.63,14.87,22.2,36.81,25.53,24.62,26.25,18.21,28.08,19.42,29.79,32.8,35.99,28.32,27.79,35.88,29.06,36.28,14.1,36.63,37.49,26.9,18.58,38.48,24.48,18.95,33.55,14.24,29.04,32.51,25.63,22.22,19,32.73,15.16,13.9,27.2,32.01,29.27,33,13.74,20.42,27.32,18.23,35.35,28.48,9.08,24.62,20.12,35.26,19.92,31.02,16.49,12.16,30.7,31.22,34.65,13.13,27.51,33.2,31.57,14.1,33.42,17.44,10.12,24.42,9.82,23.39,30.93,15.03,21.67,31.09,33.29,22.61,26.89,23.48,8.38,27.81,32.35,23.84]\n",
        "alpha,beta=least_squares_fit(num_friends,daily_minutes_spent)\n",
        "print('alpha:',alpha)\n",
        "print('beta:',beta)\n",
        "print('r_squared:',r_squared(alpha,beta,num_friends,daily_minutes_spent))\n",
        "print('gradient descent')\n",
        "random.seed(0)\n",
        "theta = [random.random(), random.random()]\n",
        "alpha, beta = minimize_stochastic(squared_error,\n",
        "                                      squared_error_gradient,\n",
        "                                      num_friends,\n",
        "                                      daily_minutes_spent,\n",
        "                                      theta,\n",
        "                                      0.0001)\n",
        "print(\"alpha\", alpha)\n",
        "print(\"beta\", beta)\n"
      ],
      "execution_count": 28,
      "outputs": [
        {
          "output_type": "stream",
          "text": [
            "alpha: 0.36411133684544844\n",
            "beta: 26.659362432333765\n",
            "r_squared: -513.3419485319528\n",
            "gradient descent\n",
            "alpha 0.8444218515250481\n",
            "beta 0.7579544029403025\n"
          ],
          "name": "stdout"
        }
      ]
    }
  ]
}